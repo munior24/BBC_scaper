{
 "cells": [
  {
   "cell_type": "code",
   "execution_count": 1,
   "metadata": {},
   "outputs": [],
   "source": [
    "import pandas as pd\n",
    "import json"
   ]
  },
  {
   "cell_type": "code",
   "execution_count": 35,
   "metadata": {},
   "outputs": [],
   "source": [
    "with open('bbc_articles.json', encoding=\"utf8\") as f:\n",
    "    data = json.load(f)\n",
    "\n",
    "df = pd.DataFrame(data)\n"
   ]
  },
  {
   "cell_type": "code",
   "execution_count": 36,
   "metadata": {},
   "outputs": [
    {
     "data": {
      "text/html": [
       "<div>\n",
       "<style scoped>\n",
       "    .dataframe tbody tr th:only-of-type {\n",
       "        vertical-align: middle;\n",
       "    }\n",
       "\n",
       "    .dataframe tbody tr th {\n",
       "        vertical-align: top;\n",
       "    }\n",
       "\n",
       "    .dataframe thead th {\n",
       "        text-align: right;\n",
       "    }\n",
       "</style>\n",
       "<table border=\"1\" class=\"dataframe\">\n",
       "  <thead>\n",
       "    <tr style=\"text-align: right;\">\n",
       "      <th></th>\n",
       "      <th>menu</th>\n",
       "      <th>submenu</th>\n",
       "      <th>topic</th>\n",
       "      <th>text</th>\n",
       "      <th>title</th>\n",
       "      <th>subtitle</th>\n",
       "      <th>date</th>\n",
       "      <th>images</th>\n",
       "      <th>author</th>\n",
       "      <th>videos</th>\n",
       "      <th>url</th>\n",
       "      <th>authors</th>\n",
       "      <th>video</th>\n",
       "    </tr>\n",
       "  </thead>\n",
       "  <tbody>\n",
       "    <tr>\n",
       "      <th>0</th>\n",
       "      <td>/news</td>\n",
       "      <td>/news/topics/c2vdnvdg6xxt</td>\n",
       "      <td>/news/world-middle-east-69059863</td>\n",
       "      <td>Given the intensity of the conflict and the ab...</td>\n",
       "      <td>Israel-Gaza briefings: How plans for ‘the day ...</td>\n",
       "      <td>The Day After might sound like the title of a ...</td>\n",
       "      <td>2024-05-26 03:12:04</td>\n",
       "      <td>[/bbcx/grey-placeholder.png, https://ichef.bbc...</td>\n",
       "      <td>No Author</td>\n",
       "      <td>[]</td>\n",
       "      <td>https://www.bbc.com/news/world-middle-east-690...</td>\n",
       "      <td>NaN</td>\n",
       "      <td>NaN</td>\n",
       "    </tr>\n",
       "    <tr>\n",
       "      <th>1</th>\n",
       "      <td>/news</td>\n",
       "      <td>/news/topics/c2vdnvdg6xxt</td>\n",
       "      <td>/news/articles/cz9950n003yo</td>\n",
       "      <td>One of them is aid. Months after some Israelis...</td>\n",
       "      <td>Israeli activists battle over Gaza-bound aid c...</td>\n",
       "      <td>Read about our approach to external linking.</td>\n",
       "      <td>2024-05-25 10:12:05</td>\n",
       "      <td>[/bbcx/grey-placeholder.png, https://ichef.bbc...</td>\n",
       "      <td>No Author</td>\n",
       "      <td>[]</td>\n",
       "      <td>https://www.bbc.com/news/articles/cz9950n003yo</td>\n",
       "      <td>NaN</td>\n",
       "      <td>NaN</td>\n",
       "    </tr>\n",
       "  </tbody>\n",
       "</table>\n",
       "</div>"
      ],
      "text/plain": [
       "    menu                    submenu                             topic  \\\n",
       "0  /news  /news/topics/c2vdnvdg6xxt  /news/world-middle-east-69059863   \n",
       "1  /news  /news/topics/c2vdnvdg6xxt       /news/articles/cz9950n003yo   \n",
       "\n",
       "                                                text  \\\n",
       "0  Given the intensity of the conflict and the ab...   \n",
       "1  One of them is aid. Months after some Israelis...   \n",
       "\n",
       "                                               title  \\\n",
       "0  Israel-Gaza briefings: How plans for ‘the day ...   \n",
       "1  Israeli activists battle over Gaza-bound aid c...   \n",
       "\n",
       "                                            subtitle                 date  \\\n",
       "0  The Day After might sound like the title of a ...  2024-05-26 03:12:04   \n",
       "1       Read about our approach to external linking.  2024-05-25 10:12:05   \n",
       "\n",
       "                                              images     author videos  \\\n",
       "0  [/bbcx/grey-placeholder.png, https://ichef.bbc...  No Author     []   \n",
       "1  [/bbcx/grey-placeholder.png, https://ichef.bbc...  No Author     []   \n",
       "\n",
       "                                                 url authors  video  \n",
       "0  https://www.bbc.com/news/world-middle-east-690...     NaN    NaN  \n",
       "1     https://www.bbc.com/news/articles/cz9950n003yo     NaN    NaN  "
      ]
     },
     "execution_count": 36,
     "metadata": {},
     "output_type": "execute_result"
    }
   ],
   "source": [
    "df.head(2)"
   ]
  },
  {
   "cell_type": "markdown",
   "metadata": {},
   "source": [
    "# Data Cleaning\n"
   ]
  },
  {
   "cell_type": "code",
   "execution_count": 37,
   "metadata": {},
   "outputs": [
    {
     "data": {
      "text/plain": [
       "menu           0\n",
       "submenu        3\n",
       "topic         23\n",
       "text           0\n",
       "title          0\n",
       "subtitle       6\n",
       "date          16\n",
       "images         0\n",
       "author       270\n",
       "videos       270\n",
       "url          270\n",
       "authors     4006\n",
       "video       4044\n",
       "dtype: int64"
      ]
     },
     "execution_count": 37,
     "metadata": {},
     "output_type": "execute_result"
    }
   ],
   "source": [
    "df.isnull().sum()"
   ]
  },
  {
   "cell_type": "code",
   "execution_count": 38,
   "metadata": {},
   "outputs": [
    {
     "data": {
      "text/plain": [
       "3770                            /news/videos/cq5nx3y3gwro\n",
       "1178                     /news/world-middle-east-69006734\n",
       "405                        /news/world-us-canada-69023845\n",
       "391                        /news/world-us-canada-69024952\n",
       "2965    /travel/article/20240506-the-amache-national-h...\n",
       "2994    /travel/article/20240227-pura-vida-costa-ricas...\n",
       "778                             /news/world-asia-68911309\n",
       "3021    /travel/article/20231219-greccio-the-italian-v...\n",
       "3871                                             Football\n",
       "2906    /travel/article/20240112-yennayer-north-africa...\n",
       "Name: topic, dtype: object"
      ]
     },
     "execution_count": 38,
     "metadata": {},
     "output_type": "execute_result"
    }
   ],
   "source": [
    "df.topic.sample(10)"
   ]
  },
  {
   "cell_type": "code",
   "execution_count": null,
   "metadata": {},
   "outputs": [],
   "source": []
  },
  {
   "cell_type": "code",
   "execution_count": 39,
   "metadata": {},
   "outputs": [],
   "source": [
    "from sklearn.feature_extraction.text import TfidfVectorizer\n",
    "from sklearn.cluster import KMeans\n",
    "from sklearn.preprocessing import LabelEncoder\n",
    "import matplotlib.pyplot as plt\n",
    "import seaborn as sns"
   ]
  },
  {
   "cell_type": "code",
   "execution_count": 40,
   "metadata": {},
   "outputs": [],
   "source": [
    "df.sample(10).to_csv('sample.csv', index=False)"
   ]
  },
  {
   "cell_type": "code",
   "execution_count": 41,
   "metadata": {},
   "outputs": [],
   "source": [
    "df['text'] = df['text'].fillna('')\n",
    "df['title'] = df['title'].fillna('')\n",
    "df['subtitle'] = df['subtitle'].fillna('')"
   ]
  },
  {
   "cell_type": "code",
   "execution_count": 42,
   "metadata": {},
   "outputs": [],
   "source": [
    "df['date'] = pd.to_datetime(df['date'], errors='coerce')"
   ]
  },
  {
   "cell_type": "code",
   "execution_count": 43,
   "metadata": {},
   "outputs": [
    {
     "data": {
      "text/plain": [
       "menu           0\n",
       "submenu        3\n",
       "topic         23\n",
       "text           0\n",
       "title          0\n",
       "subtitle       0\n",
       "date         913\n",
       "images         0\n",
       "author       270\n",
       "videos       270\n",
       "url          270\n",
       "authors     4006\n",
       "video       4044\n",
       "dtype: int64"
      ]
     },
     "execution_count": 43,
     "metadata": {},
     "output_type": "execute_result"
    }
   ],
   "source": [
    "df.isnull().sum()"
   ]
  },
  {
   "cell_type": "code",
   "execution_count": 44,
   "metadata": {},
   "outputs": [],
   "source": [
    "df['submenu'] = df['submenu'].fillna('')\n",
    "df['topic'] = df['topic'].fillna('')"
   ]
  },
  {
   "cell_type": "code",
   "execution_count": 45,
   "metadata": {},
   "outputs": [],
   "source": [
    "def clean_sub(line):\n",
    "    l = line.split('/')\n",
    "    if len(l)>2:\n",
    "        return l[-2]\n",
    "    return l[0]\n",
    "\n",
    "df.submenu = df.submenu.apply(clean_sub)\n",
    "\n"
   ]
  },
  {
   "cell_type": "code",
   "execution_count": 46,
   "metadata": {},
   "outputs": [],
   "source": [
    "def clean_top(line):\n",
    "    l = line.split('/')\n",
    "    return l[-1]\n",
    "df.topic = df.topic.apply(clean_top)"
   ]
  },
  {
   "cell_type": "code",
   "execution_count": 48,
   "metadata": {},
   "outputs": [
    {
     "data": {
      "text/plain": [
       "212                                          cx88nqjzdwwo\n",
       "2095                                  technology-68445981\n",
       "2940            the-last-remaining-lamplighters-of-london\n",
       "2938    shukubo-japan-s-temples-offering-a-taste-of-mo...\n",
       "3478            20240423-how-to-make-a-mini-wildlife-pond\n",
       "276                                          cv22l8458v2o\n",
       "3182    20240224-six-of-the-best-hikes-in-and-around-s...\n",
       "3681    20240304-adalar-explore-the-ottoman-past-on-is...\n",
       "1596    20240215-why-insects-are-drawn-to-artificial-l...\n",
       "2528                             world-us-canada-68420543\n",
       "Name: topic, dtype: object"
      ]
     },
     "execution_count": 48,
     "metadata": {},
     "output_type": "execute_result"
    }
   ],
   "source": [
    "df.topic.sample(10)"
   ]
  },
  {
   "cell_type": "code",
   "execution_count": 51,
   "metadata": {},
   "outputs": [],
   "source": [
    "df.menu = df.menu.str.replace('/', '')"
   ]
  },
  {
   "cell_type": "code",
   "execution_count": null,
   "metadata": {},
   "outputs": [],
   "source": []
  },
  {
   "cell_type": "code",
   "execution_count": null,
   "metadata": {},
   "outputs": [],
   "source": []
  },
  {
   "cell_type": "code",
   "execution_count": 53,
   "metadata": {},
   "outputs": [],
   "source": [
    "df['combined_text'] = df['text'] + ' ' + df['title'] + ' ' + df['subtitle']"
   ]
  },
  {
   "cell_type": "code",
   "execution_count": 54,
   "metadata": {},
   "outputs": [],
   "source": [
    "vectorizer = TfidfVectorizer(stop_words='english')\n",
    "tfidf_matrix = vectorizer.fit_transform(df['combined_text'])"
   ]
  },
  {
   "cell_type": "code",
   "execution_count": 55,
   "metadata": {},
   "outputs": [],
   "source": [
    "num_clusters = 5  # Define the number of clusters\n",
    "km = KMeans(n_clusters=num_clusters, random_state=42)\n",
    "km.fit(tfidf_matrix)\n",
    "df['cluster'] = km.labels_"
   ]
  },
  {
   "cell_type": "code",
   "execution_count": 56,
   "metadata": {},
   "outputs": [],
   "source": [
    "# Categorize articles based on submenu\n",
    "submenu_le = LabelEncoder()\n",
    "df['submenu_category'] = submenu_le.fit_transform(df['submenu'].fillna('Unknown'))\n"
   ]
  },
  {
   "cell_type": "code",
   "execution_count": 57,
   "metadata": {},
   "outputs": [],
   "source": [
    "# Display results\n",
    "categorized_df = df[['title', 'submenu', 'submenu_category', 'cluster']]"
   ]
  },
  {
   "cell_type": "code",
   "execution_count": 58,
   "metadata": {},
   "outputs": [
    {
     "data": {
      "text/html": [
       "<div>\n",
       "<style scoped>\n",
       "    .dataframe tbody tr th:only-of-type {\n",
       "        vertical-align: middle;\n",
       "    }\n",
       "\n",
       "    .dataframe tbody tr th {\n",
       "        vertical-align: top;\n",
       "    }\n",
       "\n",
       "    .dataframe thead th {\n",
       "        text-align: right;\n",
       "    }\n",
       "</style>\n",
       "<table border=\"1\" class=\"dataframe\">\n",
       "  <thead>\n",
       "    <tr style=\"text-align: right;\">\n",
       "      <th></th>\n",
       "      <th>title</th>\n",
       "      <th>submenu</th>\n",
       "      <th>submenu_category</th>\n",
       "      <th>cluster</th>\n",
       "    </tr>\n",
       "  </thead>\n",
       "  <tbody>\n",
       "    <tr>\n",
       "      <th>0</th>\n",
       "      <td>Israel-Gaza briefings: How plans for ‘the day ...</td>\n",
       "      <td>topics</td>\n",
       "      <td>8</td>\n",
       "      <td>4</td>\n",
       "    </tr>\n",
       "    <tr>\n",
       "      <th>1</th>\n",
       "      <td>Israeli activists battle over Gaza-bound aid c...</td>\n",
       "      <td>topics</td>\n",
       "      <td>8</td>\n",
       "      <td>4</td>\n",
       "    </tr>\n",
       "    <tr>\n",
       "      <th>2</th>\n",
       "      <td>Three more Israeli hostages' bodies found in Gaza</td>\n",
       "      <td>topics</td>\n",
       "      <td>8</td>\n",
       "      <td>4</td>\n",
       "    </tr>\n",
       "    <tr>\n",
       "      <th>3</th>\n",
       "      <td>Israeli activists battle over Gaza-bound aid c...</td>\n",
       "      <td>topics</td>\n",
       "      <td>8</td>\n",
       "      <td>4</td>\n",
       "    </tr>\n",
       "    <tr>\n",
       "      <th>4</th>\n",
       "      <td>Top UN court orders Israel to stop Rafah offen...</td>\n",
       "      <td>topics</td>\n",
       "      <td>8</td>\n",
       "      <td>4</td>\n",
       "    </tr>\n",
       "  </tbody>\n",
       "</table>\n",
       "</div>"
      ],
      "text/plain": [
       "                                               title submenu  \\\n",
       "0  Israel-Gaza briefings: How plans for ‘the day ...  topics   \n",
       "1  Israeli activists battle over Gaza-bound aid c...  topics   \n",
       "2  Three more Israeli hostages' bodies found in Gaza  topics   \n",
       "3  Israeli activists battle over Gaza-bound aid c...  topics   \n",
       "4  Top UN court orders Israel to stop Rafah offen...  topics   \n",
       "\n",
       "   submenu_category  cluster  \n",
       "0                 8        4  \n",
       "1                 8        4  \n",
       "2                 8        4  \n",
       "3                 8        4  \n",
       "4                 8        4  "
      ]
     },
     "execution_count": 58,
     "metadata": {},
     "output_type": "execute_result"
    }
   ],
   "source": [
    "categorized_df.head()"
   ]
  },
  {
   "cell_type": "code",
   "execution_count": 59,
   "metadata": {},
   "outputs": [
    {
     "data": {
      "image/png": "[encoded data removed]",
      "text/plain": [
       "<Figure size 1000x600 with 1 Axes>"
      ]
     },
     "metadata": {},
     "output_type": "display_data"
    }
   ],
   "source": [
    "plt.figure(figsize=(10, 6))\n",
    "sns.countplot(data=df, y='menu', order=df['menu'].value_counts().index)\n",
    "plt.title('Distribution of Articles by Menu')\n",
    "plt.xlabel('Count')\n",
    "plt.ylabel('Menu')\n",
    "plt.show()"
   ]
  },
  {
   "cell_type": "code",
   "execution_count": 60,
   "metadata": {},
   "outputs": [
    {
     "data": {
      "image/png": "[encoded data removed]",
      "text/plain": [
       "<Figure size 1000x600 with 1 Axes>"
      ]
     },
     "metadata": {},
     "output_type": "display_data"
    }
   ],
   "source": [
    "# Distribution of articles by submenu\n",
    "plt.figure(figsize=(10, 6))\n",
    "sns.countplot(data=df, y='submenu', order=df['submenu'].value_counts().index)\n",
    "plt.title('Distribution of Articles by Submenu')\n",
    "plt.xlabel('Count')\n",
    "plt.ylabel('Submenu')\n",
    "plt.show()"
   ]
  },
  {
   "cell_type": "code",
   "execution_count": 61,
   "metadata": {},
   "outputs": [
    {
     "data": {
      "image/png": "[encoded data removed]",
      "text/plain": [
       "<Figure size 1000x600 with 1 Axes>"
      ]
     },
     "metadata": {},
     "output_type": "display_data"
    }
   ],
   "source": [
    "# Cluster distribution\n",
    "plt.figure(figsize=(10, 6))\n",
    "sns.countplot(data=df, x='cluster', order=df['cluster'].value_counts().index)\n",
    "plt.title('Distribution of Articles by Cluster')\n",
    "plt.xlabel('Cluster')\n",
    "plt.ylabel('Count')\n",
    "plt.show()"
   ]
  },
  {
   "cell_type": "code",
   "execution_count": null,
   "metadata": {},
   "outputs": [],
   "source": []
  },
  {
   "cell_type": "code",
   "execution_count": null,
   "metadata": {},
   "outputs": [],
   "source": []
  }
 ],
 "metadata": {
  "kernelspec": {
   "display_name": "scrape",
   "language": "python",
   "name": "python3"
  },
  "language_info": {
   "codemirror_mode": {
    "name": "ipython",
    "version": 3
   },
   "file_extension": ".py",
   "mimetype": "text/x-python",
   "name": "python",
   "nbconvert_exporter": "python",
   "pygments_lexer": "ipython3",
   "version": "3.11.9"
  }
 },
 "nbformat": 4,
 "nbformat_minor": 2
}
